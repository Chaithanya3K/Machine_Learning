{
  "nbformat": 4,
  "nbformat_minor": 0,
  "metadata": {
    "colab": {
      "provenance": [],
      "authorship_tag": "ABX9TyMFjGn/aOTuOVwmYNJ1da6M",
      "include_colab_link": true
    },
    "kernelspec": {
      "name": "python3",
      "display_name": "Python 3"
    },
    "language_info": {
      "name": "python"
    }
  },
  "cells": [
    {
      "cell_type": "markdown",
      "metadata": {
        "id": "view-in-github",
        "colab_type": "text"
      },
      "source": [
        "<a href=\"https://colab.research.google.com/github/Chaithanya3K/Machine_Learning/blob/main/Logistic__Regression.ipynb\" target=\"_parent\"><img src=\"https://colab.research.google.com/assets/colab-badge.svg\" alt=\"Open In Colab\"/></a>"
      ]
    },
    {
      "cell_type": "markdown",
      "source": [
        "Logistic Regression is a supervised classification model (not a regression model, despite the name). It uses a sigmoid function for binary classification (two classes) and a softmax function for multi-class classification. These functions map the output of a linear equation into probabilities between 0 and 1 (for sigmoid) or a probability distribution across multiple classes (for softmax). The predicted probability then determines the class/category of the input.\n"
      ],
      "metadata": {
        "id": "xLSPDteY05Gh"
      }
    },
    {
      "cell_type": "markdown",
      "source": [
        "##Logistic Regression\n"
      ],
      "metadata": {
        "id": "4Mrvrite1suC"
      }
    },
    {
      "cell_type": "markdown",
      "source": [
        "###Binomial Logistic Regression\n"
      ],
      "metadata": {
        "id": "t54bNur511JH"
      }
    },
    {
      "cell_type": "code",
      "execution_count": 1,
      "metadata": {
        "id": "bziDQ8rl0u7Z"
      },
      "outputs": [],
      "source": [
        "#breast cancer dataset to impliment logistic regression\n",
        "from sklearn.datasets import load_breast_cancer\n",
        "from sklearn.linear_model import LogisticRegression\n",
        "from sklearn.model_selection import train_test_split\n",
        "from sklearn.metrics import accuracy_score"
      ]
    },
    {
      "cell_type": "code",
      "source": [
        "import pandas as pd\n",
        "\n",
        "df = pd.DataFrame(data.data, columns=data.feature_names)\n",
        "df['target'] = data.target\n",
        "print(df.head())  # first 5 rows\n",
        "print(data.target_names)\n"
      ],
      "metadata": {
        "colab": {
          "base_uri": "https://localhost:8080/"
        },
        "id": "9JUBZrTCabbM",
        "outputId": "9502a797-fa13-4a70-aff0-1ef4e2bf6670"
      },
      "execution_count": 11,
      "outputs": [
        {
          "output_type": "stream",
          "name": "stdout",
          "text": [
            "   mean radius  mean texture  mean perimeter  mean area  mean smoothness  \\\n",
            "0        17.99         10.38          122.80     1001.0          0.11840   \n",
            "1        20.57         17.77          132.90     1326.0          0.08474   \n",
            "2        19.69         21.25          130.00     1203.0          0.10960   \n",
            "3        11.42         20.38           77.58      386.1          0.14250   \n",
            "4        20.29         14.34          135.10     1297.0          0.10030   \n",
            "\n",
            "   mean compactness  mean concavity  mean concave points  mean symmetry  \\\n",
            "0           0.27760          0.3001              0.14710         0.2419   \n",
            "1           0.07864          0.0869              0.07017         0.1812   \n",
            "2           0.15990          0.1974              0.12790         0.2069   \n",
            "3           0.28390          0.2414              0.10520         0.2597   \n",
            "4           0.13280          0.1980              0.10430         0.1809   \n",
            "\n",
            "   mean fractal dimension  ...  worst texture  worst perimeter  worst area  \\\n",
            "0                 0.07871  ...          17.33           184.60      2019.0   \n",
            "1                 0.05667  ...          23.41           158.80      1956.0   \n",
            "2                 0.05999  ...          25.53           152.50      1709.0   \n",
            "3                 0.09744  ...          26.50            98.87       567.7   \n",
            "4                 0.05883  ...          16.67           152.20      1575.0   \n",
            "\n",
            "   worst smoothness  worst compactness  worst concavity  worst concave points  \\\n",
            "0            0.1622             0.6656           0.7119                0.2654   \n",
            "1            0.1238             0.1866           0.2416                0.1860   \n",
            "2            0.1444             0.4245           0.4504                0.2430   \n",
            "3            0.2098             0.8663           0.6869                0.2575   \n",
            "4            0.1374             0.2050           0.4000                0.1625   \n",
            "\n",
            "   worst symmetry  worst fractal dimension  target  \n",
            "0          0.4601                  0.11890       0  \n",
            "1          0.2750                  0.08902       0  \n",
            "2          0.3613                  0.08758       0  \n",
            "3          0.6638                  0.17300       0  \n",
            "4          0.2364                  0.07678       0  \n",
            "\n",
            "[5 rows x 31 columns]\n",
            "['malignant' 'benign']\n"
          ]
        }
      ]
    },
    {
      "cell_type": "code",
      "source": [
        "print(df[df['target'] == 1].head())   # first 5 benign samples\n"
      ],
      "metadata": {
        "colab": {
          "base_uri": "https://localhost:8080/"
        },
        "id": "aXcCETc1bhQj",
        "outputId": "7e6570b0-3b03-4b9e-fd64-a9e50f24e7c4"
      },
      "execution_count": 13,
      "outputs": [
        {
          "output_type": "stream",
          "name": "stdout",
          "text": [
            "    mean radius  mean texture  mean perimeter  mean area  mean smoothness  \\\n",
            "19       13.540         14.36           87.46      566.3          0.09779   \n",
            "20       13.080         15.71           85.63      520.0          0.10750   \n",
            "21        9.504         12.44           60.34      273.9          0.10240   \n",
            "37       13.030         18.42           82.61      523.8          0.08983   \n",
            "46        8.196         16.84           51.71      201.9          0.08600   \n",
            "\n",
            "    mean compactness  mean concavity  mean concave points  mean symmetry  \\\n",
            "19           0.08129         0.06664             0.047810         0.1885   \n",
            "20           0.12700         0.04568             0.031100         0.1967   \n",
            "21           0.06492         0.02956             0.020760         0.1815   \n",
            "37           0.03766         0.02562             0.029230         0.1467   \n",
            "46           0.05943         0.01588             0.005917         0.1769   \n",
            "\n",
            "    mean fractal dimension  ...  worst texture  worst perimeter  worst area  \\\n",
            "19                 0.05766  ...          19.26            99.70       711.2   \n",
            "20                 0.06811  ...          20.49            96.09       630.5   \n",
            "21                 0.06905  ...          15.66            65.13       314.9   \n",
            "37                 0.05863  ...          22.81            84.46       545.9   \n",
            "46                 0.06503  ...          21.96            57.26       242.2   \n",
            "\n",
            "    worst smoothness  worst compactness  worst concavity  \\\n",
            "19           0.14400            0.17730          0.23900   \n",
            "20           0.13120            0.27760          0.18900   \n",
            "21           0.13240            0.11480          0.08867   \n",
            "37           0.09701            0.04619          0.04833   \n",
            "46           0.12970            0.13570          0.06880   \n",
            "\n",
            "    worst concave points  worst symmetry  worst fractal dimension  target  \n",
            "19               0.12880          0.2977                  0.07259       1  \n",
            "20               0.07283          0.3184                  0.08183       1  \n",
            "21               0.06227          0.2450                  0.07773       1  \n",
            "37               0.05013          0.1987                  0.06169       1  \n",
            "46               0.02564          0.3105                  0.07409       1  \n",
            "\n",
            "[5 rows x 31 columns]\n"
          ]
        }
      ]
    },
    {
      "cell_type": "code",
      "source": [
        "X,y=load_breast_cancer(return_X_y=True)\n",
        "X_train,X_test,y_train,y_test=train_test_split(X,y,test_size=0.2,random_state=42)\n",
        "clf=LogisticRegression(max_iter=7000,random_state=42)\n",
        "clf.fit(X_train,y_train)\n",
        "y_pred=clf.predict(X_test)\n",
        "accuracy=accuracy_score(y_test,y_pred)\n",
        "print(accuracy*100)"
      ],
      "metadata": {
        "colab": {
          "base_uri": "https://localhost:8080/"
        },
        "id": "4orOVcT73KwQ",
        "outputId": "f1bad8db-e8a6-4f9b-a71a-c4e835590847"
      },
      "execution_count": 17,
      "outputs": [
        {
          "output_type": "stream",
          "name": "stdout",
          "text": [
            "95.6140350877193\n"
          ]
        }
      ]
    },
    {
      "cell_type": "markdown",
      "source": [
        "###Multinomial Logistic Regression\n"
      ],
      "metadata": {
        "id": "YKiJmsR8b-vz"
      }
    },
    {
      "cell_type": "code",
      "source": [
        "from sklearn.model_selection import train_test_split\n",
        "from sklearn import metrics\n",
        "from sklearn.linear_model import LogisticRegression\n",
        "from sklearn.datasets import load_digits\n",
        "digits=load_digits()\n",
        "X=digits.data\n",
        "y=digits.target\n",
        "X_train,X_test,y_train,y_test=train_test_split(X,y,random_state=1,test_size=0.4)\n",
        "reg=LogisticRegression(max_iter=10000,random_state=1)\n",
        "reg.fit(X_train,y_train)\n",
        "y_pred=reg.predict(X_test)\n",
        "print(metrics.accuracy_score(y_test,y_pred))"
      ],
      "metadata": {
        "colab": {
          "base_uri": "https://localhost:8080/"
        },
        "id": "lXVe4xsub-7Q",
        "outputId": "713d9fad-1888-4c9c-b680-c9cb97a20dea"
      },
      "execution_count": 21,
      "outputs": [
        {
          "output_type": "stream",
          "name": "stdout",
          "text": [
            "0.9666203059805285\n"
          ]
        }
      ]
    }
  ]
}